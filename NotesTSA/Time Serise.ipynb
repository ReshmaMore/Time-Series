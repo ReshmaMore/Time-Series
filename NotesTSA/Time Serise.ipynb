{
 "cells": [
  {
   "cell_type": "markdown",
   "id": "7936cd08",
   "metadata": {},
   "source": [
    "- Stationary :\n",
    "    - 1.Seasonality : Diwali, X-mas, stock\n",
    "    - 2.Trend : Reels, Data-science,demand\n",
    "    - 3.Unexpectedness : War, Pandemic\n",
    "- If TS is not stationary then we can't train that model.\n",
    "- We've to convert TS into stationary\n",
    "\n",
    "- How do we make TS stationary : \n",
    "    - By differnce Transformation\n",
    "    - Rolling stat : No need to predict whole year.\n",
    "    \n",
    "- How to check if TS is stationary ?\n",
    "    - 1. Visualization\n",
    "    - 2. Dicky-fuller Test (AR(1), MA(1))\n",
    "    - 3. ADF (AR(p), MA(q)) p : order of AR, q = order of MA\n",
    "    \n",
    "    \n",
    "- ACF (Autocorrn function):\n",
    "    - Direct Effect + Ind. Effect (Common)\n",
    "    - Moving AVG(MA)\n",
    "\n",
    "- PACF (Partial Autocorrn function)  :\n",
    "    - Direct effect (Most recent)\n",
    "    - Auto Regression(AR)\n",
    "\n",
    "\n",
    "- White Noise : If the variables are independent and identically distributed with a mean of zero.\n",
    "    - White Noise is Stationary.\n",
    "    - But Stationary is not a white noise.\n",
    "\n",
    "- Tests for white noise :\n",
    "    - Visual\n",
    "    - Global vs Local\n",
    "    - Check ACF(Pearson)\n",
    "    \n",
    "\n",
    "- There are 3 things in Stationarity :\n",
    "    - mean : Trend = Constant\n",
    "    - Std : Time variable seasonality = Constant\n",
    "    - ACR : Seasonlity \n",
    "    \n",
    "- If errors have pattern in the data then we are failing to capture the dynamics in the data.\n",
    "\n",
    "- for MA:\n",
    "    - at = (phi) * A0^t + sum(phi)^k + Esub(t-k)  | (phi) = coeff. of innovation - AR/MA E = error(Noise)\n",
    "     \n",
    "- for AR:\n",
    "    - At = (phi) * At-1 + Et\n",
    "    \n",
    "- UNIT ROOT :\n",
    "    - mod(phi) > 1 ## Non Stationary\n",
    "    - mod(phi) < 1 ## stationary \n",
    "    - mod(phi) = 1 ## UNIT ROOT # Non Stationary | var = t(sigma)^2\n",
    "\n",
    "- Here mod(phi) = 1 tells us\n"
   ]
  }
 ],
 "metadata": {
  "kernelspec": {
   "display_name": "Python 3 (ipykernel)",
   "language": "python",
   "name": "python3"
  },
  "language_info": {
   "codemirror_mode": {
    "name": "ipython",
    "version": 3
   },
   "file_extension": ".py",
   "mimetype": "text/x-python",
   "name": "python",
   "nbconvert_exporter": "python",
   "pygments_lexer": "ipython3",
   "version": "3.9.12"
  }
 },
 "nbformat": 4,
 "nbformat_minor": 5
}
